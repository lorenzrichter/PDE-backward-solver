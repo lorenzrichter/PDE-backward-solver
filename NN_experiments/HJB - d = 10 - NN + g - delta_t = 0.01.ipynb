{
 "cells": [
  {
   "cell_type": "code",
   "execution_count": null,
   "metadata": {},
   "outputs": [],
   "source": [
    "%matplotlib inline\n",
    "\n",
    "import matplotlib.cm as cm\n",
    "import matplotlib.pyplot as plt\n",
    "import numpy as np\n",
    "import torch as pt\n",
    "import time\n",
    "import sys\n",
    "\n",
    "sys.path.insert(0, '..')\n",
    "\n",
    "from NNsolver import NNSolver\n",
    "from NNarchitectures import DenseNet_g\n",
    "from problems import HJB\n",
    "from utilities import get_X_process, plot_NN_evaluation\n",
    "\n",
    "%load_ext autoreload\n",
    "%autoreload 2\n",
    "\n",
    "device = pt.device('cuda')"
   ]
  },
  {
   "cell_type": "code",
   "execution_count": null,
   "metadata": {},
   "outputs": [],
   "source": [
    "T = 1.0\n",
    "problem = HJB(d=10, T=T)\n",
    "K = 2000\n",
    "K_batch = 2000\n",
    "print_every = 500\n",
    "delta_t = 0.01\n",
    "sq_delta_t = pt.sqrt(pt.tensor(delta_t))\n",
    "N = int(np.ceil(T / delta_t))\n",
    "gradient_steps = (N - 1) * [8000] + [40000]\n",
    "learning_rates = [0.0001] * (N - 1) + [0.0001]\n",
    "\n",
    "\n",
    "model = NNSolver(problem, 'HJB', learning_rates=learning_rates, gradient_steps=gradient_steps, NN_class=DenseNet_g, K=K, \n",
    "                 K_batch=K_batch, delta_t=delta_t, print_every=print_every, method='implicit')\n",
    "\n",
    "model.Y_n = [DenseNet_g(problem.d, 1, lr=learning_rates[n], arch=[110, 110, 50, 50], problem=problem).to(device) for n in range(N)] + [problem.g]"
   ]
  },
  {
   "cell_type": "code",
   "execution_count": null,
   "metadata": {
    "scrolled": true
   },
   "outputs": [],
   "source": [
    "model.train()"
   ]
  },
  {
   "cell_type": "code",
   "execution_count": null,
   "metadata": {},
   "outputs": [],
   "source": [
    "fig = plot_NN_evaluation(model, n=N-2, reference_solution=False, Y_0_true=2.1589400569)"
   ]
  },
  {
   "cell_type": "markdown",
   "metadata": {},
   "source": [
    "### compare with TT solution along trajectories"
   ]
  },
  {
   "cell_type": "code",
   "execution_count": null,
   "metadata": {},
   "outputs": [],
   "source": [
    "problem.modus = 'np'\n",
    "X, xi = get_X_process(problem, 10, delta_t, seed=44)\n",
    "problem.modus = 'pt'\n",
    "\n",
    "TT_traj = [np.load('data/v_tt_traj1.npy'), np.load('data/v_tt_traj2.npy')]\n",
    "TT_ref = [np.load('data/v_ref_traj1.npy'), np.load('data/v_ref_traj2.npy')]"
   ]
  },
  {
   "cell_type": "code",
   "execution_count": null,
   "metadata": {},
   "outputs": [],
   "source": [
    "COLORS = ['tab:blue', 'tab:orange', 'tab:green', 'tab:red', 'tab:purple', 'tab:brown',\n",
    "          'tab:pink', 'tab:gray', 'tab:olive', 'tab:cyan']\n",
    "\n",
    "fig, ax = plt.subplots(1, 2, figsize=(6, 3))\n",
    "fig.suptitle(r'Evaluation along trajectories')\n",
    "ax[0].set_xlabel(r'$t$')\n",
    "ax[1].set_xlabel(r'$t$')\n",
    "ax[0].set_title('TTs')\n",
    "ax[1].set_title('NNs')\n",
    "\n",
    "for i in range(2):\n",
    "    if i == 0:\n",
    "\n",
    "        ax[0].plot(t_val, TT_traj[i], label=r'$\\widehat{V}(X_t, t)$',\n",
    "                 color=COLORS[0], linewidth=1.2);\n",
    "        ax[0].plot(t_val, TT_ref[i], '--', label='$V_{\\mathrm{ref}}(X_t, t)$', color=COLORS[1], linewidth=1.2);\n",
    "    else:\n",
    "        ax[0].plot(t_val, TT_traj[i],\n",
    "                 color=COLORS[0], linewidth=1.2);\n",
    "        ax[0].plot(t_val, TT_ref[i], '--', color=COLORS[1], linewidth=1.2);\n",
    "\n",
    "ax[0].set_ylim(1.55, 2.8)\n",
    "ax[0].legend();\n",
    "\n",
    "for i, k in enumerate([0, 1]):\n",
    "    Y_ref_traj = []\n",
    "    for n in range(N + 1):\n",
    "        X_T_t = X[n, k, :][np.newaxis, :] + np.sqrt(2 * (problem.T - n * delta_t)) * np.random.randn(1000, problem.d)\n",
    "        Y_ref_traj.append(-np.log(np.mean(1 / (0.5 + 0.5 * np.sum(X_T_t**2, 1)))))\n",
    "    ax[1].plot(t_val, [model.Y_n[n](pt.tensor(X[n, k, :]).unsqueeze(0).float().to(device)).item() for n in range(N + 1)],\n",
    "               color=COLORS[0], linewidth=1.2);\n",
    "    ax[1].plot(t_val, Y_ref_traj, '--', color=COLORS[1], linewidth=1.2);\n",
    "\n",
    "ax[1].set_ylim(1.55, 2.8)\n",
    "\n",
    "fig.tight_layout(rect=[0, 0.03, 1, 0.95])\n",
    "#fig.savefig('img/HJB_100_trajectory_plots_d_10.pdf')"
   ]
  },
  {
   "cell_type": "code",
   "execution_count": null,
   "metadata": {},
   "outputs": [],
   "source": []
  }
 ],
 "metadata": {
  "kernelspec": {
   "display_name": "Python 3",
   "language": "python",
   "name": "python3"
  },
  "language_info": {
   "codemirror_mode": {
    "name": "ipython",
    "version": 3
   },
   "file_extension": ".py",
   "mimetype": "text/x-python",
   "name": "python",
   "nbconvert_exporter": "python",
   "pygments_lexer": "ipython3",
   "version": "3.7.4"
  }
 },
 "nbformat": 4,
 "nbformat_minor": 2
}
