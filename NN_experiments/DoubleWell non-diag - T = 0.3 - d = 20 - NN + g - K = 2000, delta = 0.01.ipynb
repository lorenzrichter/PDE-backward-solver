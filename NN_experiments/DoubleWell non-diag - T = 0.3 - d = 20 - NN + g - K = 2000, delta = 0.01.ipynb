{
 "cells": [
  {
   "cell_type": "code",
   "execution_count": null,
   "metadata": {},
   "outputs": [],
   "source": [
    "%matplotlib inline\n",
    "\n",
    "import matplotlib.pyplot as plt\n",
    "import numpy as np\n",
    "import torch as pt\n",
    "import time\n",
    "import sys\n",
    "\n",
    "sys.path.insert(0, '..')\n",
    "\n",
    "from NNsolver import NNSolver\n",
    "from NNarchitectures import DenseNet_g\n",
    "from problems import DoubleWell\n",
    "from utilities import get_X_process, plot_NN_evaluation, compute_PDE_loss\n",
    "\n",
    "%load_ext autoreload\n",
    "%autoreload 2\n",
    "\n",
    "device = pt.device('cuda')"
   ]
  },
  {
   "cell_type": "code",
   "execution_count": null,
   "metadata": {},
   "outputs": [],
   "source": [
    "T = 0.3\n",
    "problem = DoubleWell(d=20, d_1=20, d_2=0, T=0.3, eta=0.5, kappa=0.5, diagonal=False)\n",
    "problem.compute_reference_solution()\n",
    "problem.compute_reference_solution_2()\n",
    "K = 2000\n",
    "K_batch = 2000\n",
    "print_every = 500\n",
    "delta_t = 0.01\n",
    "sq_delta_t = pt.sqrt(pt.tensor(delta_t))\n",
    "N = int(np.ceil(T / delta_t))\n",
    "gradient_steps = (N - 1) * [3000] + [30000]\n",
    "learning_rates = [0.0007] * (N - 1) + [0.001]\n",
    "\n",
    "model = NNSolver(problem, 'DoubleWell', learning_rates=learning_rates, gradient_steps=gradient_steps, NN_class=DenseNet_g, K=K, \n",
    "                 K_batch=K_batch, delta_t=delta_t, print_every=print_every, method='implicit')\n",
    "\n",
    "model.Y_n = [DenseNet_g(problem.d, 1, lr=learning_rates[n], problem=problem, arch=[20, 20, 20, 20]).to(device) for n in range(N)] + [problem.g]"
   ]
  },
  {
   "cell_type": "code",
   "execution_count": null,
   "metadata": {
    "scrolled": true
   },
   "outputs": [],
   "source": [
    "model.train()"
   ]
  },
  {
   "cell_type": "code",
   "execution_count": null,
   "metadata": {
    "scrolled": true
   },
   "outputs": [],
   "source": [
    "fig = plot_NN_evaluation(model, n=N-2, reference_solution=False, Y_0_true=34.26871278084)"
   ]
  },
  {
   "cell_type": "markdown",
   "metadata": {},
   "source": [
    "### compute reference value for V(x_0, 0)"
   ]
  },
  {
   "cell_type": "code",
   "execution_count": null,
   "metadata": {},
   "outputs": [],
   "source": [
    "problem.modus = 'np'\n",
    "\n",
    "expectation = 0\n",
    "K = 1000000\n",
    "L = 10\n",
    "for l in range(L):\n",
    "    X, xi = get_X_process(problem, K, delta_t, seed=l, t=0, x=problem.X_0)\n",
    "    expectation += np.sum(np.exp(-problem.g(X[N, :, :]))) / (L * K)"
   ]
  },
  {
   "cell_type": "code",
   "execution_count": null,
   "metadata": {
    "scrolled": true
   },
   "outputs": [],
   "source": [
    "-np.log(expectation)"
   ]
  },
  {
   "cell_type": "markdown",
   "metadata": {},
   "source": [
    "### compute reference loss"
   ]
  },
  {
   "cell_type": "code",
   "execution_count": null,
   "metadata": {},
   "outputs": [],
   "source": [
    "K = 1000\n",
    "Y_ref = np.zeros([N + 1, K])\n",
    "Y_pred = np.zeros([N + 1, K])\n",
    "\n",
    "X, xi = get_X_process(problem, K, delta_t, seed=44, t=0, x=problem.X_0)\n",
    "\n",
    "for n in range(N + 1):\n",
    "    for k in range(K):\n",
    "        problem.modus = 'np'\n",
    "        X_, xi = get_X_process(problem, 10000, delta_t, seed=44, t=n * delta_t, x=X[n, k, :])\n",
    "        Y_ref[n, k] = -np.log(np.mean(np.exp(-problem.g(X[-1, :, :]))))\n",
    "\n",
    "    problem.modus = 'pt'   \n",
    "    Y_pred[n, :] = model.Y_n[n](pt.tensor(X[n, :, :]).float().to(device)).cpu().detach().squeeze().numpy()\n",
    "    problem.modus = 'np'   \n",
    "    \n",
    "np.mean(np.abs((Y_pred - Y_ref) / Y_ref))"
   ]
  },
  {
   "cell_type": "code",
   "execution_count": null,
   "metadata": {},
   "outputs": [],
   "source": [
    "np.mean(np.abs((Y_pred - Y_ref) / Y_ref))"
   ]
  },
  {
   "cell_type": "code",
   "execution_count": null,
   "metadata": {
    "scrolled": true
   },
   "outputs": [],
   "source": [
    "problem.modus = 'pt'\n",
    "pde_loss = compute_PDE_loss(problem, delta_t=0.01, K=100, Y_n=model.Y_n, vfun=None, testOde=None, seed=44, \n",
    "                            print_every=1)"
   ]
  },
  {
   "cell_type": "code",
   "execution_count": null,
   "metadata": {},
   "outputs": [],
   "source": [
    "np.mean(pde_loss[:-1])"
   ]
  }
 ],
 "metadata": {
  "kernelspec": {
   "display_name": "Python 3",
   "language": "python",
   "name": "python3"
  },
  "language_info": {
   "codemirror_mode": {
    "name": "ipython",
    "version": 3
   },
   "file_extension": ".py",
   "mimetype": "text/x-python",
   "name": "python",
   "nbconvert_exporter": "python",
   "pygments_lexer": "ipython3",
   "version": "3.8.3"
  }
 },
 "nbformat": 4,
 "nbformat_minor": 2
}
