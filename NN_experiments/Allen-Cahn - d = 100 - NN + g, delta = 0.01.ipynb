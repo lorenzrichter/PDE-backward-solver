{
 "cells": [
  {
   "cell_type": "code",
   "execution_count": null,
   "metadata": {},
   "outputs": [],
   "source": [
    "%matplotlib inline\n",
    "\n",
    "import matplotlib.pyplot as plt\n",
    "import numpy as np\n",
    "import torch as pt\n",
    "import time\n",
    "import sys\n",
    "\n",
    "sys.path.insert(0, '..')\n",
    "\n",
    "from NNsolver import NNSolver\n",
    "from NNarchitectures import DenseNet_g\n",
    "from problems import AllenCahn\n",
    "from utilities import get_X_process, plot_NN_evaluation, compute_PDE_loss\n",
    "\n",
    "%load_ext autoreload\n",
    "%autoreload 2\n",
    "\n",
    "device = pt.device('cuda')"
   ]
  },
  {
   "cell_type": "code",
   "execution_count": null,
   "metadata": {},
   "outputs": [],
   "source": [
    "T = 0.3\n",
    "problem = AllenCahn(d=100, T=T)\n",
    "K = 8000\n",
    "K_batch = 8000\n",
    "print_every = 500\n",
    "delta_t = 0.01\n",
    "sq_delta_t = pt.sqrt(pt.tensor(delta_t))\n",
    "N = int(np.ceil(T / delta_t))\n",
    "gradient_steps = 5 * [10000] + (N - 6) * [6000] + [15000]\n",
    "learning_rates = [0.0002] * (N - 1) + [0.001]\n",
    "\n",
    "model = NNSolver(problem, 'AllenCahn', learning_rates=learning_rates, gradient_steps=gradient_steps, NN_class=DenseNet_g, K=K, \n",
    "                 K_batch=K_batch, delta_t=delta_t, print_every=print_every, method='implicit')\n",
    "\n",
    "model.Y_n = [DenseNet_g(problem.d, 1, lr=learning_rates[n], problem=problem).to(device) for n in range(N)] + [problem.g]"
   ]
  },
  {
   "cell_type": "code",
   "execution_count": null,
   "metadata": {
    "scrolled": true
   },
   "outputs": [],
   "source": [
    "model.train()"
   ]
  },
  {
   "cell_type": "code",
   "execution_count": null,
   "metadata": {},
   "outputs": [],
   "source": [
    "fig = plot_NN_evaluation(model, n=12, reference_solution=False, Y_0_true=0.052802)"
   ]
  },
  {
   "cell_type": "code",
   "execution_count": null,
   "metadata": {},
   "outputs": [],
   "source": [
    "pde_loss = compute_PDE_loss(problem, delta_t=0.01, K=1000, Y_n=model.Y_n, vfun=None, testOde=None, seed=44, print_every=10)"
   ]
  },
  {
   "cell_type": "code",
   "execution_count": null,
   "metadata": {},
   "outputs": [],
   "source": [
    "np.mean(pde_loss)"
   ]
  },
  {
   "cell_type": "markdown",
   "metadata": {},
   "source": [
    "## K = 1000"
   ]
  },
  {
   "cell_type": "code",
   "execution_count": null,
   "metadata": {},
   "outputs": [],
   "source": [
    "T = 0.3\n",
    "problem = AllenCahn(d=100, T=T)\n",
    "K = 1000\n",
    "K_batch = 1000\n",
    "print_every = 500\n",
    "delta_t = 0.01\n",
    "sq_delta_t = pt.sqrt(pt.tensor(delta_t))\n",
    "N = int(np.ceil(T / delta_t))\n",
    "gradient_steps = 10 * [12000] + (N - 11) * [6000] + [15000]\n",
    "learning_rates = [0.0005] * (N - 1) + [0.001]\n",
    "\n",
    "model_2 = NNSolver(problem, 'AllenCahn', learning_rates=learning_rates, gradient_steps=gradient_steps, NN_class=DenseNet_g, K=K, \n",
    "                 K_batch=K_batch, delta_t=delta_t, print_every=print_every, method='implicit')\n",
    "\n",
    "model_2.Y_n = [DenseNet_g(problem.d, 1, lr=learning_rates[n], problem=problem, arch=[110, 110, 50, 50]).to(device) for n in range(N)] + [problem.g]"
   ]
  },
  {
   "cell_type": "code",
   "execution_count": null,
   "metadata": {},
   "outputs": [],
   "source": [
    "model_2.train()"
   ]
  },
  {
   "cell_type": "code",
   "execution_count": null,
   "metadata": {},
   "outputs": [],
   "source": [
    "pde_loss = compute_PDE_loss(problem, delta_t=0.01, K=1000, Y_n=model.Y_n, vfun=None, testOde=None, seed=44, print_every=10)"
   ]
  },
  {
   "cell_type": "code",
   "execution_count": null,
   "metadata": {},
   "outputs": [],
   "source": [
    "np.mean(pde_loss)"
   ]
  },
  {
   "cell_type": "code",
   "execution_count": null,
   "metadata": {},
   "outputs": [],
   "source": []
  }
 ],
 "metadata": {
  "kernelspec": {
   "display_name": "Python 3",
   "language": "python",
   "name": "python3"
  },
  "language_info": {
   "codemirror_mode": {
    "name": "ipython",
    "version": 3
   },
   "file_extension": ".py",
   "mimetype": "text/x-python",
   "name": "python",
   "nbconvert_exporter": "python",
   "pygments_lexer": "ipython3",
   "version": "3.7.4"
  }
 },
 "nbformat": 4,
 "nbformat_minor": 2
}
